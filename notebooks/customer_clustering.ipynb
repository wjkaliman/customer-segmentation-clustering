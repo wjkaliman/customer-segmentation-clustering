{
 "cells": [
  {
   "cell_type": "markdown",
   "id": "ef831a7c",
   "metadata": {},
   "source": [
    "Imports + data (Iris as a no-download dataset)"
   ]
  },
  {
   "cell_type": "code",
   "execution_count": null,
   "id": "b7744038",
   "metadata": {},
   "outputs": [],
   "source": [
    "import pandas as pd\n",
    "import numpy as np\n",
    "import matplotlib.pyplot as plt\n",
    "import seaborn as sns\n",
    "\n",
    "from sklearn.datasets import load_iris\n",
    "from sklearn.preprocessing import StandardScaler\n",
    "from sklearn.cluster import KMeans\n",
    "from sklearn.metrics import silhouette_score\n",
    "from sklearn.decomposition import PCA\n",
    "\n",
    "iris = load_iris(as_frame=True)\n",
    "df = iris.frame  # features + target\n",
    "X = df.drop(columns=[\"target\"])\n",
    "y_true = df[\"target\"]  # labels only for reference (not used to train)\n",
    "\n",
    "display(df.head())\n"
   ]
  },
  {
   "cell_type": "markdown",
   "id": "a2e50786",
   "metadata": {},
   "source": [
    "Scale Features"
   ]
  },
  {
   "cell_type": "code",
   "execution_count": null,
   "id": "c8c28762",
   "metadata": {},
   "outputs": [],
   "source": [
    "scaler = StandardScaler()\n",
    "X_scaled = scaler.fit_transform(X)\n"
   ]
  },
  {
   "cell_type": "markdown",
   "id": "6d5bc149",
   "metadata": {},
   "source": [
    "Elbow method (choose k)"
   ]
  },
  {
   "cell_type": "code",
   "execution_count": null,
   "id": "a1d072c0",
   "metadata": {},
   "outputs": [],
   "source": [
    "inertias = []\n",
    "K = range(2, 10)\n",
    "for k in K:\n",
    "    kmeans = KMeans(n_clusters=k, n_init=10, random_state=42)\n",
    "    kmeans.fit(X_scaled)\n",
    "    inertias.append(kmeans.inertia_)\n",
    "\n",
    "plt.figure()\n",
    "plt.plot(list(K), inertias, marker=\"o\")\n",
    "plt.xlabel(\"k\")\n",
    "plt.ylabel(\"Inertia (within-cluster SSE)\")\n",
    "plt.title(\"Elbow Method\")\n",
    "plt.tight_layout()\n",
    "plt.savefig(\"../images/elbow.png\", dpi=150)\n",
    "plt.show()\n"
   ]
  },
  {
   "cell_type": "markdown",
   "id": "01862a66",
   "metadata": {},
   "source": [
    "Silhouette scores (second opinion on k)"
   ]
  },
  {
   "cell_type": "code",
   "execution_count": null,
   "id": "97879290",
   "metadata": {},
   "outputs": [],
   "source": [
    "sil_scores = []\n",
    "for k in K:\n",
    "    km = KMeans(n_clusters=k, n_init=10, random_state=42).fit(X_scaled)\n",
    "    sil_scores.append(silhouette_score(X_scaled, km.labels_))\n",
    "\n",
    "plt.figure()\n",
    "plt.plot(list(K), sil_scores, marker=\"o\")\n",
    "plt.xlabel(\"k\")\n",
    "plt.ylabel(\"Silhouette score\")\n",
    "plt.title(\"Silhouette Analysis\")\n",
    "plt.tight_layout()\n",
    "plt.savefig(\"../images/silhouette.png\", dpi=150)\n",
    "plt.show()\n",
    "\n",
    "best_k = K[int(np.argmax(sil_scores))]\n",
    "best_k\n"
   ]
  },
  {
   "cell_type": "markdown",
   "id": "620073cb",
   "metadata": {},
   "source": [
    "Final KMeans, clustering, and 2D visualization (PCA)"
   ]
  },
  {
   "cell_type": "code",
   "execution_count": null,
   "id": "5ed9e218",
   "metadata": {},
   "outputs": [],
   "source": [
    "k = 3  # Iris often separates well at 3; or use best_k from above\n",
    "kmeans = KMeans(n_clusters=k, n_init=10, random_state=42)\n",
    "clusters = kmeans.fit_predict(X_scaled)\n",
    "\n",
    "pca = PCA(n_components=2, random_state=42)\n",
    "X_pca = pca.fit_transform(X_scaled)\n",
    "\n",
    "plt.figure()\n",
    "sns.scatterplot(x=X_pca[:,0], y=X_pca[:,1], hue=clusters, palette=\"tab10\")\n",
    "plt.title(f\"KMeans Clusters (k={k}) on PCA(2D)\")\n",
    "plt.xlabel(\"PC1\"); plt.ylabel(\"PC2\")\n",
    "plt.tight_layout()\n",
    "plt.savefig(f\"../images/kmeans_pca_k{k}.png\", dpi=150)\n",
    "plt.show()\n",
    "\n",
    "print(\"Silhouette:\", silhouette_score(X_scaled, clusters))\n"
   ]
  },
  {
   "cell_type": "markdown",
   "id": "38cf278d",
   "metadata": {},
   "source": [
    "Compare to true species (purely for reference)"
   ]
  },
  {
   "cell_type": "code",
   "execution_count": null,
   "id": "f20ec35d",
   "metadata": {},
   "outputs": [],
   "source": [
    "from sklearn.metrics import adjusted_rand_score\n",
    "print(\"Adjusted Rand Index vs true labels:\", adjusted_rand_score(y_true, clusters))\n",
    "pd.crosstab(y_true, clusters, rownames=[\"True\"], colnames=[\"Cluster\"])\n"
   ]
  },
  {
   "cell_type": "markdown",
   "id": "b6fc9e3c",
   "metadata": {},
   "source": [
    "Imports + data (Iris as a no-download dataset)"
   ]
  }
 ],
 "metadata": {
  "kernelspec": {
   "display_name": "anaconda3_20230401_20231015",
   "language": "python",
   "name": "python3"
  },
  "language_info": {
   "codemirror_mode": {
    "name": "ipython",
    "version": 3
   },
   "file_extension": ".py",
   "mimetype": "text/x-python",
   "name": "python",
   "nbconvert_exporter": "python",
   "pygments_lexer": "ipython3",
   "version": "3.10.9"
  }
 },
 "nbformat": 4,
 "nbformat_minor": 5
}
